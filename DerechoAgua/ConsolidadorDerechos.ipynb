{
 "cells": [
  {
   "cell_type": "code",
   "execution_count": 1,
   "metadata": {},
   "outputs": [],
   "source": [
    "from os import scandir, getcwd\n",
    "import pandas as pd\n",
    "import time\n",
    "import numpy as np\n",
    "import glob\n",
    "import unidecode\n",
    "\n",
    "def ls(ruta = getcwd()):\n",
    "    return [arch.name for arch in scandir(ruta) if arch.is_file()]"
   ]
  },
  {
   "cell_type": "code",
   "execution_count": null,
   "metadata": {},
   "outputs": [],
   "source": [
    "SOLICITUDES = []\n",
    "for i in ls():\n",
    "    if \"SOLICITUDES\" in i: #and \"REGISTRO\" not in i:\n",
    "        SOLICITUDES.append(i)\n",
    "    if \"solicitudes\" in i: #and \"registro\" not in i:\n",
    "        SOLICITUDES.append(i)\n",
    "        \n",
    "SOLICITUDES"
   ]
  },
  {
   "cell_type": "code",
   "execution_count": null,
   "metadata": {},
   "outputs": [],
   "source": [
    "salida = []\n",
    "derechos_aux = []\n",
    "for i in SOLICITUDES:\n",
    "    index = 0\n",
    "    #flag = True\n",
    "    while True:\n",
    "        columna1 = pd.read_excel(i, skiprows=index).columns[0]\n",
    "        if columna1 == \"N°\" or columna1 == \"Número\" or columna1 == \"Numero\" or columna1 == \"Numero \":\n",
    "            derechos_aux.append(i)\n",
    "            salida.append(pd.read_excel(i, skiprows=index).copy())\n",
    "            break\n",
    "        if(index > 10):\n",
    "            print(i)\n",
    "            break\n",
    "        index += 1"
   ]
  },
  {
   "cell_type": "code",
   "execution_count": null,
   "metadata": {},
   "outputs": [],
   "source": [
    "for i in range(len(salida)):\n",
    "    if(len(salida[i].columns) != 39):\n",
    "        print(i)\n",
    "        print(SOLICITUDES[i])"
   ]
  },
  {
   "cell_type": "code",
   "execution_count": null,
   "metadata": {},
   "outputs": [],
   "source": [
    "for i in range(len(salida)):\n",
    "    print(i)\n",
    "    print(SOLICITUDES[i])\n",
    "    print(len(salida[i].columns))\n",
    "    print(\"*********************************************\")"
   ]
  },
  {
   "cell_type": "code",
   "execution_count": null,
   "metadata": {},
   "outputs": [],
   "source": []
  },
  {
   "cell_type": "code",
   "execution_count": null,
   "metadata": {},
   "outputs": [],
   "source": [
    "columnas = []\n",
    "for i in salida[0].columns:\n",
    "    print(i.replace(\"\\n\",\"\"))\n",
    "    columnas.append(i.replace(\"\\n\",\"\"))"
   ]
  },
  {
   "cell_type": "code",
   "execution_count": null,
   "metadata": {},
   "outputs": [],
   "source": [
    "for i in salida[4].columns:\n",
    "    if i not in columnas:\n",
    "        print(i)"
   ]
  },
  {
   "cell_type": "code",
   "execution_count": null,
   "metadata": {},
   "outputs": [],
   "source": [
    "for i in range(len(salida[0].columns)):\n",
    "    try:\n",
    "        print(salida[0].columns[i])\n",
    "        print(\"-\")\n",
    "        print(salida[4].columns[i])\n",
    "    except:\n",
    "        pass\n",
    "        #print(salida[0].columns[i])\n",
    "    print(\"***************************************\")"
   ]
  },
  {
   "cell_type": "code",
   "execution_count": null,
   "metadata": {},
   "outputs": [],
   "source": [
    "def verificarColumnas(data, referencia):\n",
    "    ruta = \"Referencia/\"\n",
    "    df = data\n",
    "    df = df[df.columns.dropna()]\n",
    "    df = df.loc[:,~df.columns.duplicated()]\n",
    "    \n",
    "    ref = pd.read_excel(ruta + referencia, skiprows=4)\n",
    "    \n",
    "    existe = False\n",
    "    columna = 0    \n",
    "    #Eliminar Columnas que sobran    \n",
    "    for col in df.columns:        \n",
    "        for colRef in ref.columns:\n",
    "            \n",
    "            colCom = col\n",
    "            colRefCom = colRef\n",
    "            \n",
    "            if \"\\n\" in colRef.lower():\n",
    "                colRefCom = colRef.replace(\"\\n\",\"\")\n",
    "            if \"\\n\" in col.lower():\n",
    "                colCom = col.replace(\"\\n\",\"\")\n",
    "            if unidecode.unidecode(colCom.lower()) == unidecode.unidecode(colRefCom.lower()):\n",
    "                #print(\"existe la columna\" + col)\n",
    "                existe = True\n",
    "            if \"número\" in col.lower() or \"numero\" in col.lower():\n",
    "                existe = True\n",
    "            if \"region\" in col.lower() or \"región\" in col.lower():\n",
    "                existe = True\n",
    "            if \"codigo de expediente\" in col.lower() or \"código de expediente\" in col.lower():\n",
    "                existe = True\n",
    "                \n",
    "        if existe == False:\n",
    "            \n",
    "            del df[col]\n",
    "            #df.to_csv(csvPorVerificar, index = False)\n",
    "            print(\"se Eliminó la columna \" + col)\n",
    "            \n",
    "        existe = False   \n",
    "    #Agregar columnas faltantes    \n",
    "    for colRef in ref.columns:        \n",
    "        for col in df.columns:\n",
    "            if col.lower() == colRef.lower():\n",
    "                #print(\"existe la columna\" + col)\n",
    "                existe = True\n",
    "        if \"\\n\" in colRef.lower():\n",
    "            colRefCom = colRef.replace(\"\\n\",\"\")\n",
    "        if colRef == \"Región\":\n",
    "            existe = True\n",
    "        if colRef == \"Region\":\n",
    "            existe = True\n",
    "        if colRefCom.lower() == \"código de expediente\":\n",
    "            existe = True\n",
    "        if colRefCom.lower() == \"codigo de expediente\":\n",
    "            existe = True\n",
    "            \n",
    "        if existe == False:\n",
    "            \n",
    "            df.insert(columna,colRef,'')\n",
    "            #df.to_csv(csvPorVerificar, index = False)\n",
    "            print(\"se agregó la columna \" + colRef)\n",
    "        columna+=1\n",
    "        existe = False\n",
    "    '''    \n",
    "    if \"Region\" in str(df.iloc[0]):\n",
    "       \n",
    "        region = df[\"Region\"]\n",
    "        del df[\"Región\"]\n",
    "        df.insert(3, \"Región\", region)\n",
    "        del df[\"Region\"]'''\n",
    "    \n",
    "    df.rename(columns = {\"Region\":\"Región\", \"Numero\":\"Número\", \"Codigo de Expediente\":\"Código de Expediente\", \"Codigo de \\nExpediente\":\"Código de Expediente\", \"Código de \\nExpediente\":\"Código de Expediente\" }, inplace = True)\n",
    "    #df.rename(columns = {\"Numero\":\"Número\"}, inplace = True)\n",
    "    #print(df)\n",
    "    \n",
    "    if \"Número\" in str(df.iloc[0]):\n",
    "        del df[\"N°\"]\n",
    "        df.insert(0, \"N°\", df[\"Número\"])\n",
    "        del df[\"Número\"]\n",
    "    #print(df)\n",
    "    if \"Código de Expediente\" in str(df.iloc[0]):\n",
    "        Expediente = df[\"Código de Expediente\"]\n",
    "        del df[\"Código de Expediente\"]\n",
    "        df.insert(1, \"Código de Expediente\", Expediente)\n",
    "    \n",
    "    #print(df)\n",
    "    \n",
    "    return df"
   ]
  },
  {
   "cell_type": "code",
   "execution_count": null,
   "metadata": {
    "scrolled": false
   },
   "outputs": [],
   "source": [
    "for i in range(len(salida)):\n",
    "    print(i)\n",
    "    print(SOLICITUDES[i])\n",
    "    tabla = pd.read_excel(SOLICITUDES[i])\n",
    "    \n",
    "    #print(tabla)\n",
    "    contador = 0\n",
    "   \n",
    "    for j in tabla.iloc[:,0]:\n",
    "        \n",
    "        if \"\\n\" in str(j):\n",
    "            j = str(j).replace(\"\\n\",\"\")\n",
    "        #print(j)\n",
    "        if \"N°\" in str(j) or \"Número\" in str(j) or \"Numero\" in str(j):\n",
    "            \n",
    "            new_header = tabla.iloc[contador]\n",
    "            tabla = tabla[contador+1:]\n",
    "            tabla.columns = new_header\n",
    "           \n",
    "            break\n",
    "        contador = contador + 1\n",
    "            \n",
    "        \n",
    "    \n",
    "    df = verificarColumnas(tabla, \"SOLICITUDES_INGRESADAS_EN_OCTUBRE_DE_2018.xls\")\n",
    "    \n",
    "    df.to_excel(\"RESULTADO/\"+SOLICITUDES[i], index = False)\n",
    "    print(\"########################### DIVISION ######################\")"
   ]
  },
  {
   "cell_type": "code",
   "execution_count": null,
   "metadata": {},
   "outputs": [],
   "source": []
  },
  {
   "cell_type": "code",
   "execution_count": 20,
   "metadata": {},
   "outputs": [
    {
     "name": "stdout",
     "output_type": "stream",
     "text": [
      "Desnivel FINAL\n"
     ]
    }
   ],
   "source": [
    "file1 = \"Datos Solicitudes Parciales/*.xls\"\n",
    "for item in file1:\n",
    "    files = glob.glob(file1)\n",
    "    df = pd.DataFrame()\n",
    "    for file in files:\n",
    "        #df1 = \n",
    "        \n",
    "            #df1[i] = df1[i].replace(\"a\", \"á\").replace(\"é\",\"e\").replace(\"í\",\"i\").replace(\"ó\",\"o\").replace(\"ú\",\"u\")\n",
    "        \n",
    "        df = df.append(pd.read_excel(file), ignore_index=True)\n",
    "    \n",
    "for i in df.columns:\n",
    "\n",
    "    for j in df.columns:\n",
    "\n",
    "        b = i\n",
    "        if i.lower().replace(\"á\", \"a\").replace(\"é\",\"e\").replace(\"í\",\"i\").replace(\"ó\",\"o\").replace(\"ú\",\"u\").replace(\"\\n\",\"\") == j.lower().replace(\"á\", \"a\").replace(\"é\",\"e\").replace(\"í\",\"i\").replace(\"ó\",\"o\").replace(\"ú\",\"u\").replace(\"\\n\",\"\"):\n",
    "            \n",
    "            b = b.replace(\"\\n\",\"\")\n",
    "            df.rename(columns = {str(j) : str(b)}, inplace = True)\n",
    "    if str(i) == \"Desnivel\":\n",
    "        print(\"Desnivel FINAL\")\n",
    "        break\n",
    "                \n",
    "df = df.groupby(level=0, axis=1, sort = False).first()\n",
    "\n",
    "df.drop(df.columns[34:], axis=1, inplace=True)\n",
    "#nombre = item.replace(\"REGIONAL/\",\"\")\n",
    "\n",
    "df.to_excel(\"Datos Solicitudes Consolidado.xlsx\", index = False)"
   ]
  },
  {
   "cell_type": "code",
   "execution_count": null,
   "metadata": {},
   "outputs": [],
   "source": [
    "dfs = pd.read_excel(\"REGISTRO_CBR_DE_DERECHOS_NC_RECIBIDOS_EN_EL_MES_DE_MAYO_2012.xls\")\n",
    "dfs"
   ]
  },
  {
   "cell_type": "code",
   "execution_count": null,
   "metadata": {},
   "outputs": [],
   "source": []
  }
 ],
 "metadata": {
  "kernelspec": {
   "display_name": "Python 3",
   "language": "python",
   "name": "python3"
  },
  "language_info": {
   "codemirror_mode": {
    "name": "ipython",
    "version": 3
   },
   "file_extension": ".py",
   "mimetype": "text/x-python",
   "name": "python",
   "nbconvert_exporter": "python",
   "pygments_lexer": "ipython3",
   "version": "3.7.6"
  }
 },
 "nbformat": 4,
 "nbformat_minor": 4
}
