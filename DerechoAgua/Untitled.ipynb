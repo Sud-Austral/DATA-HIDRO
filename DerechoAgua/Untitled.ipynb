{
 "cells": [
  {
   "cell_type": "code",
   "execution_count": 27,
   "metadata": {},
   "outputs": [],
   "source": [
    "from selenium import webdriver\n",
    "from selenium.webdriver.common.keys import Keys\n",
    "from selenium.webdriver.firefox.firefox_profile import FirefoxProfile\n",
    "from selenium.webdriver.firefox.options import Options\n",
    "import http.client, urllib.request, urllib.parse, urllib.error, base64\n",
    "import shutil\n",
    "import datetime\n",
    "from selenium.webdriver.support.ui import Select\n",
    "import time\n",
    "import pandas as pd\n",
    "import wget\n",
    "import requests\n"
   ]
  },
  {
   "cell_type": "code",
   "execution_count": 7,
   "metadata": {},
   "outputs": [],
   "source": [
    "def getDriver(url):\n",
    "    download_folder = r\"C:\\Users\\limc_\\Laboratorio\\DerechoAgua\"\n",
    "    options = Options()\n",
    "    #options.set_preference(\"browser.download.dir\", download_folder)\n",
    "    #options.set_preference(\"browser.download.folderList\", 2)\n",
    "    options.set_preference(\"browser.download.manager.showWhenStarting\", False)\n",
    "    options.set_preference(\"browser.helperApps.neverAsk.saveToDisk\", \"text/csv\") #, \"application/json\")\n",
    "    options.set_preference(\"browser.helperApps.neverAsk.saveToDisk\", \"application/vnd.hzn-3d-crossword;video/3gpp;video/3gpp2;application/vnd.mseq;application/vnd.3m.post-it-notes;application/vnd.3gpp.pic-bw-large;application/vnd.3gpp.pic-bw-small;application/vnd.3gpp.pic-bw-var;application/vnd.3gp2.tcap;application/x-7z-compressed;application/x-abiword;application/x-ace-compressed;application/vnd.americandynamics.acc;application/vnd.acucobol;application/vnd.acucorp;audio/adpcm;application/x-authorware-bin;application/x-athorware-map;application/x-authorware-seg;application/vnd.adobe.air-application-installer-package+zip;application/x-shockwave-flash;application/vnd.adobe.fxp;application/pdf;application/vnd.cups-ppd;application/x-director;applicaion/vnd.adobe.xdp+xml;application/vnd.adobe.xfdf;audio/x-aac;application/vnd.ahead.space;application/vnd.airzip.filesecure.azf;application/vnd.airzip.filesecure.azs;application/vnd.amazon.ebook;application/vnd.amiga.ami;applicatin/andrew-inset;application/vnd.android.package-archive;application/vnd.anser-web-certificate-issue-initiation;application/vnd.anser-web-funds-transfer-initiation;application/vnd.antix.game-component;application/vnd.apple.installe+xml;application/applixware;application/vnd.hhe.lesson-player;application/vnd.aristanetworks.swi;text/x-asm;application/atomcat+xml;application/atomsvc+xml;application/atom+xml;application/pkix-attr-cert;audio/x-aiff;video/x-msvieo;application/vnd.audiograph;image/vnd.dxf;model/vnd.dwf;text/plain-bas;application/x-bcpio;application/octet-stream;image/bmp;application/x-bittorrent;application/vnd.rim.cod;application/vnd.blueice.multipass;application/vnd.bm;application/x-sh;image/prs.btif;application/vnd.businessobjects;application/x-bzip;application/x-bzip2;application/x-csh;text/x-c;application/vnd.chemdraw+xml;text/css;chemical/x-cdx;chemical/x-cml;chemical/x-csml;application/vn.contact.cmsg;application/vnd.claymore;application/vnd.clonk.c4group;image/vnd.dvb.subtitle;application/cdmi-capability;application/cdmi-container;application/cdmi-domain;application/cdmi-object;application/cdmi-queue;applicationvnd.cluetrust.cartomobile-config;application/vnd.cluetrust.cartomobile-config-pkg;image/x-cmu-raster;model/vnd.collada+xml;text/csv;application/mac-compactpro;application/vnd.wap.wmlc;image/cgm;x-conference/x-cooltalk;image/x-cmx;application/vnd.xara;application/vnd.cosmocaller;application/x-cpio;application/vnd.crick.clicker;application/vnd.crick.clicker.keyboard;application/vnd.crick.clicker.palette;application/vnd.crick.clicker.template;application/vn.crick.clicker.wordbank;application/vnd.criticaltools.wbs+xml;application/vnd.rig.cryptonote;chemical/x-cif;chemical/x-cmdf;application/cu-seeme;application/prs.cww;text/vnd.curl;text/vnd.curl.dcurl;text/vnd.curl.mcurl;text/vnd.crl.scurl;application/vnd.curl.car;application/vnd.curl.pcurl;application/vnd.yellowriver-custom-menu;application/dssc+der;application/dssc+xml;application/x-debian-package;audio/vnd.dece.audio;image/vnd.dece.graphic;video/vnd.dec.hd;video/vnd.dece.mobile;video/vnd.uvvu.mp4;video/vnd.dece.pd;video/vnd.dece.sd;video/vnd.dece.video;application/x-dvi;application/vnd.fdsn.seed;application/x-dtbook+xml;application/x-dtbresource+xml;application/vnd.dvb.ait;applcation/vnd.dvb.service;audio/vnd.digital-winds;image/vnd.djvu;application/xml-dtd;application/vnd.dolby.mlp;application/x-doom;application/vnd.dpgraph;audio/vnd.dra;application/vnd.dreamfactory;audio/vnd.dts;audio/vnd.dts.hd;imag/vnd.dwg;application/vnd.dynageo;application/ecmascript;application/vnd.ecowin.chart;image/vnd.fujixerox.edmics-mmr;image/vnd.fujixerox.edmics-rlc;application/exi;application/vnd.proteus.magazine;application/epub+zip;message/rfc82;application/vnd.enliven;application/vnd.is-xpr;image/vnd.xiff;application/vnd.xfdl;application/emma+xml;application/vnd.ezpix-album;application/vnd.ezpix-package;image/vnd.fst;video/vnd.fvt;image/vnd.fastbidsheet;application/vn.denovo.fcselayout-link;video/x-f4v;video/x-flv;image/vnd.fpx;image/vnd.net-fpx;text/vnd.fmi.flexstor;video/x-fli;application/vnd.fluxtime.clip;application/vnd.fdf;text/x-fortran;application/vnd.mif;application/vnd.framemaker;imae/x-freehand;application/vnd.fsc.weblaunch;application/vnd.frogans.fnc;application/vnd.frogans.ltf;application/vnd.fujixerox.ddd;application/vnd.fujixerox.docuworks;application/vnd.fujixerox.docuworks.binder;application/vnd.fujitu.oasys;application/vnd.fujitsu.oasys2;application/vnd.fujitsu.oasys3;application/vnd.fujitsu.oasysgp;application/vnd.fujitsu.oasysprs;application/x-futuresplash;application/vnd.fuzzysheet;image/g3fax;application/vnd.gmx;model/vn.gtw;application/vnd.genomatix.tuxedo;application/vnd.geogebra.file;application/vnd.geogebra.tool;model/vnd.gdl;application/vnd.geometry-explorer;application/vnd.geonext;application/vnd.geoplan;application/vnd.geospace;applicatio/x-font-ghostscript;application/x-font-bdf;application/x-gtar;application/x-texinfo;application/x-gnumeric;application/vnd.google-earth.kml+xml;application/vnd.google-earth.kmz;application/vnd.grafeq;image/gif;text/vnd.graphviz;aplication/vnd.groove-account;application/vnd.groove-help;application/vnd.groove-identity-message;application/vnd.groove-injector;application/vnd.groove-tool-message;application/vnd.groove-tool-template;application/vnd.groove-vcar;video/h261;video/h263;video/h264;application/vnd.hp-hpid;application/vnd.hp-hps;application/x-hdf;audio/vnd.rip;application/vnd.hbci;application/vnd.hp-jlyt;application/vnd.hp-pcl;application/vnd.hp-hpgl;application/vnd.yamaha.h-script;application/vnd.yamaha.hv-dic;application/vnd.yamaha.hv-voice;application/vnd.hydrostatix.sof-data;application/hyperstudio;application/vnd.hal+xml;text/html;application/vnd.ibm.rights-management;application/vnd.ibm.securecontainer;text/calendar;application/vnd.iccprofile;image/x-icon;application/vnd.igloader;image/ief;application/vnd.immervision-ivp;application/vnd.immervision-ivu;application/reginfo+xml;text/vnd.in3d.3dml;text/vnd.in3d.spot;mode/iges;application/vnd.intergeo;application/vnd.cinderella;application/vnd.intercon.formnet;application/vnd.isac.fcs;application/ipfix;application/pkix-cert;application/pkixcmp;application/pkix-crl;application/pkix-pkipath;applicaion/vnd.insors.igm;application/vnd.ipunplugged.rcprofile;application/vnd.irepository.package+xml;text/vnd.sun.j2me.app-descriptor;application/java-archive;application/java-vm;application/x-java-jnlp-file;application/java-serializd-object;text/x-java-source,java;application/javascript;application/json;application/vnd.joost.joda-archive;video/jpm;image/jpeg;video/jpeg;application/vnd.kahootz;application/vnd.chipnuts.karaoke-mmd;application/vnd.kde.karbon;aplication/vnd.kde.kchart;application/vnd.kde.kformula;application/vnd.kde.kivio;application/vnd.kde.kontour;application/vnd.kde.kpresenter;application/vnd.kde.kspread;application/vnd.kde.kword;application/vnd.kenameaapp;applicatin/vnd.kidspiration;application/vnd.kinar;application/vnd.kodak-descriptor;application/vnd.las.las+xml;application/x-latex;application/vnd.llamagraphics.life-balance.desktop;application/vnd.llamagraphics.life-balance.exchange+xml;application/vnd.jam;application/vnd.lotus-1-2-3;application/vnd.lotus-approach;application/vnd.lotus-freelance;application/vnd.lotus-notes;application/vnd.lotus-organizer;application/vnd.lotus-screencam;application/vnd.lotus-wordro;audio/vnd.lucent.voice;audio/x-mpegurl;video/x-m4v;application/mac-binhex40;application/vnd.macports.portpkg;application/vnd.osgeo.mapguide.package;application/marc;application/marcxml+xml;application/mxf;application/vnd.wolfrm.player;application/mathematica;application/mathml+xml;application/mbox;application/vnd.medcalcdata;application/mediaservercontrol+xml;application/vnd.mediastation.cdkey;application/vnd.mfer;application/vnd.mfmp;model/mesh;appliation/mads+xml;application/mets+xml;application/mods+xml;application/metalink4+xml;application/vnd.ms-powerpoint.template.macroenabled.12;application/vnd.ms-word.document.macroenabled.12;application/vnd.ms-word.template.macroenabed.12;application/vnd.mcd;application/vnd.micrografx.flo;application/vnd.micrografx.igx;application/vnd.eszigno3+xml;application/x-msaccess;video/x-ms-asf;application/x-msdownload;application/vnd.ms-artgalry;application/vnd.ms-ca-compressed;application/vnd.ms-ims;application/x-ms-application;application/x-msclip;image/vnd.ms-modi;application/vnd.ms-fontobject;application/vnd.ms-excel;application/vnd.ms-excel.addin.macroenabled.12;application/vnd.ms-excelsheet.binary.macroenabled.12;application/vnd.ms-excel.template.macroenabled.12;application/vnd.ms-excel.sheet.macroenabled.12;application/vnd.ms-htmlhelp;application/x-mscardfile;application/vnd.ms-lrm;application/x-msmediaview;aplication/x-msmoney;application/vnd.openxmlformats-officedocument.presentationml.presentation;application/vnd.openxmlformats-officedocument.presentationml.slide;application/vnd.openxmlformats-officedocument.presentationml.slideshw;application/vnd.openxmlformats-officedocument.presentationml.template;application/vnd.openxmlformats-officedocument.spreadsheetml.sheet;application/vnd.openxmlformats-officedocument.spreadsheetml.template;application/vnd.openxmformats-officedocument.wordprocessingml.document;application/vnd.openxmlformats-officedocument.wordprocessingml.template;application/x-msbinder;application/vnd.ms-officetheme;application/onenote;audio/vnd.ms-playready.media.pya;vdeo/vnd.ms-playready.media.pyv;application/vnd.ms-powerpoint;application/vnd.ms-powerpoint.addin.macroenabled.12;application/vnd.ms-powerpoint.slide.macroenabled.12;application/vnd.ms-powerpoint.presentation.macroenabled.12;appliation/vnd.ms-powerpoint.slideshow.macroenabled.12;application/vnd.ms-project;application/x-mspublisher;application/x-msschedule;application/x-silverlight-app;application/vnd.ms-pki.stl;application/vnd.ms-pki.seccat;application/vn.visio;video/x-ms-wm;audio/x-ms-wma;audio/x-ms-wax;video/x-ms-wmx;application/x-ms-wmd;application/vnd.ms-wpl;application/x-ms-wmz;video/x-ms-wmv;video/x-ms-wvx;application/x-msmetafile;application/x-msterminal;application/msword;application/x-mswrite;application/vnd.ms-works;application/x-ms-xbap;application/vnd.ms-xpsdocument;audio/midi;application/vnd.ibm.minipay;application/vnd.ibm.modcap;application/vnd.jcp.javame.midlet-rms;application/vnd.tmobile-ivetv;application/x-mobipocket-ebook;application/vnd.mobius.mbk;application/vnd.mobius.dis;application/vnd.mobius.plc;application/vnd.mobius.mqy;application/vnd.mobius.msl;application/vnd.mobius.txf;application/vnd.mobius.daf;tex/vnd.fly;application/vnd.mophun.certificate;application/vnd.mophun.application;video/mj2;audio/mpeg;video/vnd.mpegurl;video/mpeg;application/mp21;audio/mp4;video/mp4;application/mp4;application/vnd.apple.mpegurl;application/vnd.msician;application/vnd.muvee.style;application/xv+xml;application/vnd.nokia.n-gage.data;application/vnd.nokia.n-gage.symbian.install;application/x-dtbncx+xml;application/x-netcdf;application/vnd.neurolanguage.nlu;application/vnd.na;application/vnd.noblenet-directory;application/vnd.noblenet-sealer;application/vnd.noblenet-web;application/vnd.nokia.radio-preset;application/vnd.nokia.radio-presets;text/n3;application/vnd.novadigm.edm;application/vnd.novadim.edx;application/vnd.novadigm.ext;application/vnd.flographit;audio/vnd.nuera.ecelp4800;audio/vnd.nuera.ecelp7470;audio/vnd.nuera.ecelp9600;application/oda;application/ogg;audio/ogg;video/ogg;application/vnd.oma.dd2+xml;applicatin/vnd.oasis.opendocument.text-web;application/oebps-package+xml;application/vnd.intu.qbo;application/vnd.openofficeorg.extension;application/vnd.yamaha.openscoreformat;audio/webm;video/webm;application/vnd.oasis.opendocument.char;application/vnd.oasis.opendocument.chart-template;application/vnd.oasis.opendocument.database;application/vnd.oasis.opendocument.formula;application/vnd.oasis.opendocument.formula-template;application/vnd.oasis.opendocument.grapics;application/vnd.oasis.opendocument.graphics-template;application/vnd.oasis.opendocument.image;application/vnd.oasis.opendocument.image-template;application/vnd.oasis.opendocument.presentation;application/vnd.oasis.opendocumen.presentation-template;application/vnd.oasis.opendocument.spreadsheet;application/vnd.oasis.opendocument.spreadsheet-template;application/vnd.oasis.opendocument.text;application/vnd.oasis.opendocument.text-master;application/vnd.asis.opendocument.text-template;image/ktx;application/vnd.sun.xml.calc;application/vnd.sun.xml.calc.template;application/vnd.sun.xml.draw;application/vnd.sun.xml.draw.template;application/vnd.sun.xml.impress;application/vnd.sun.xl.impress.template;application/vnd.sun.xml.math;application/vnd.sun.xml.writer;application/vnd.sun.xml.writer.global;application/vnd.sun.xml.writer.template;application/x-font-otf;application/vnd.yamaha.openscoreformat.osfpvg+xml;application/vnd.osgi.dp;application/vnd.palm;text/x-pascal;application/vnd.pawaafile;application/vnd.hp-pclxl;application/vnd.picsel;image/x-pcx;image/vnd.adobe.photoshop;application/pics-rules;image/x-pict;application/x-chat;aplication/pkcs10;application/x-pkcs12;application/pkcs7-mime;application/pkcs7-signature;application/x-pkcs7-certreqresp;application/x-pkcs7-certificates;application/pkcs8;application/vnd.pocketlearn;image/x-portable-anymap;image/-portable-bitmap;application/x-font-pcf;application/font-tdpfr;application/x-chess-pgn;image/x-portable-graymap;image/png;image/x-portable-pixmap;application/pskc+xml;application/vnd.ctc-posml;application/postscript;application/xfont-type1;application/vnd.powerbuilder6;application/pgp-encrypted;application/pgp-signature;application/vnd.previewsystems.box;application/vnd.pvi.ptid1;application/pls+xml;application/vnd.pg.format;application/vnd.pg.osasli;tex/prs.lines.tag;application/x-font-linux-psf;application/vnd.publishare-delta-tree;application/vnd.pmi.widget;application/vnd.quark.quarkxpress;application/vnd.epson.esf;application/vnd.epson.msf;application/vnd.epson.ssf;applicaton/vnd.epson.quickanime;application/vnd.intu.qfx;video/quicktime;application/x-rar-compressed;audio/x-pn-realaudio;audio/x-pn-realaudio-plugin;application/rsd+xml;application/vnd.rn-realmedia;application/vnd.realvnc.bed;applicatin/vnd.recordare.musicxml;application/vnd.recordare.musicxml+xml;application/relax-ng-compact-syntax;application/vnd.data-vision.rdz;application/rdf+xml;application/vnd.cloanto.rp9;application/vnd.jisp;application/rtf;text/richtex;application/vnd.route66.link66+xml;application/rss+xml;application/shf+xml;application/vnd.sailingtracker.track;image/svg+xml;application/vnd.sus-calendar;application/sru+xml;application/set-payment-initiation;application/set-reistration-initiation;application/vnd.sema;application/vnd.semd;application/vnd.semf;application/vnd.seemail;application/x-font-snf;application/scvp-vp-request;application/scvp-vp-response;application/scvp-cv-request;application/svp-cv-response;application/sdp;text/x-setext;video/x-sgi-movie;application/vnd.shana.informed.formdata;application/vnd.shana.informed.formtemplate;application/vnd.shana.informed.interchange;application/vnd.shana.informed.package;application/thraud+xml;application/x-shar;image/x-rgb;application/vnd.epson.salt;application/vnd.accpac.simply.aso;application/vnd.accpac.simply.imp;application/vnd.simtech-mindmapper;application/vnd.commonspace;application/vnd.ymaha.smaf-audio;application/vnd.smaf;application/vnd.yamaha.smaf-phrase;application/vnd.smart.teacher;application/vnd.svd;application/sparql-query;application/sparql-results+xml;application/srgs;application/srgs+xml;application/sml+xml;application/vnd.koan;text/sgml;application/vnd.stardivision.calc;application/vnd.stardivision.draw;application/vnd.stardivision.impress;application/vnd.stardivision.math;application/vnd.stardivision.writer;application/vnd.tardivision.writer-global;application/vnd.stepmania.stepchart;application/x-stuffit;application/x-stuffitx;application/vnd.solent.sdkm+xml;application/vnd.olpc-sugar;audio/basic;application/vnd.wqd;application/vnd.symbian.install;application/smil+xml;application/vnd.syncml+xml;application/vnd.syncml.dm+wbxml;application/vnd.syncml.dm+xml;application/x-sv4cpio;application/x-sv4crc;application/sbml+xml;text/tab-separated-values;image/tiff;application/vnd.to.intent-module-archive;application/x-tar;application/x-tcl;application/x-tex;application/x-tex-tfm;application/tei+xml;text/plain;application/vnd.spotfire.dxp;application/vnd.spotfire.sfs;application/timestamped-data;applicationvnd.trid.tpt;application/vnd.triscape.mxs;text/troff;application/vnd.trueapp;application/x-font-ttf;text/turtle;application/vnd.umajin;application/vnd.uoml+xml;application/vnd.unity;application/vnd.ufdl;text/uri-list;application/nd.uiq.theme;application/x-ustar;text/x-uuencode;text/x-vcalendar;text/x-vcard;application/x-cdlink;application/vnd.vsf;model/vrml;application/vnd.vcx;model/vnd.mts;model/vnd.vtu;application/vnd.visionary;video/vnd.vivo;applicatin/ccxml+xml,;application/voicexml+xml;application/x-wais-source;application/vnd.wap.wbxml;image/vnd.wap.wbmp;audio/x-wav;application/davmount+xml;application/x-font-woff;application/wspolicy+xml;image/webp;application/vnd.webturb;application/widget;application/winhlp;text/vnd.wap.wml;text/vnd.wap.wmlscript;application/vnd.wap.wmlscriptc;application/vnd.wordperfect;application/vnd.wt.stf;application/wsdl+xml;image/x-xbitmap;image/x-xpixmap;image/x-xwindowump;application/x-x509-ca-cert;application/x-xfig;application/xhtml+xml;application/xml;application/xcap-diff+xml;application/xenc+xml;application/patch-ops-error+xml;application/resource-lists+xml;application/rls-services+xml;aplication/resource-lists-diff+xml;application/xslt+xml;application/xop+xml;application/x-xpinstall;application/xspf+xml;application/vnd.mozilla.xul+xml;chemical/x-xyz;text/yaml;application/yang;application/yin+xml;application/vnd.ul;application/zip;application/vnd.handheld-entertainment+xml;application/vnd.zzazz.deck+xml\")\n",
    "    #browser = webdriver.WebDriver(firefox_profile=profile)\n",
    "    #driver = webdriver.WebDriver(firefox_profile=profile)\n",
    "    driver = webdriver.Firefox(options=options)\n",
    "    driver.set_page_load_timeout(\"600\")\n",
    "    driver.get(url)\n",
    "    return driver"
   ]
  },
  {
   "cell_type": "code",
   "execution_count": 33,
   "metadata": {},
   "outputs": [],
   "source": [
    "#url = \"https://www.python.org/static/img/python-logo@2x.png\"\n",
    "\n",
    "#wget.download(url, 'c:/users/LikeGeeks/downloads/pythonLogo.png')\n",
    "\n",
    "dr = getDriver(\"https://snia.mop.gob.cl/FNE/index.php\")\n",
    "#dr2 = getDriver(\"https://snia.mop.gob.cl/FNE/index.php\")\n",
    "element = dr.find_elements_by_tag_name(\"select\")\n",
    "selectAnios = Select(element[0])\n",
    "for i in range(10):\n",
    "    selectAnios.select_by_visible_text(str(2011 + i))\n",
    "    time.sleep(3)\n",
    "    docs = dr.find_elements_by_class_name(\"hrefMes\")\n",
    "    for j in docs:\n",
    "        #print(j.text)\n",
    "        j.click()\n",
    "        time.sleep(3)\n",
    "        links = dr.find_elements_by_tag_name(\"a\")\n",
    "        #print(len(links))\n",
    "        for k in links:\n",
    "            if \".xls\" in k.get_attribute('href'):\n",
    "                \n",
    "                link = k.get_attribute('href') \n",
    "                if link.split(\"https://snia.mop.gob.cl/FNE/registros/\")[1].replace(\"%20\",\"_\") in ls():\n",
    "                    break\n",
    "                print(link)\n",
    "                #d = getDriver(k.get_attribute('href'))\n",
    "                #time.sleep(3)\n",
    "                #d.close()\n",
    "                #d = getDriver(link)\n",
    "                #d.quit()\n",
    "                #dr2.get(link)\n",
    "                #wget.download(link, link.split(\"https://snia.mop.gob.cl/FNE/registros/\")[1].replace(\"%20\",\"_\"))\n",
    "                #print(link.split(\"https://snia.mop.gob.cl/FNE/registros/\")[1].replace(\"%20\",\"_\"))\n",
    "                #myfile = requests.get(link, allow_redirects=True)\n",
    "\n",
    "                #open(link.split(\"https://snia.mop.gob.cl/FNE/registros/\")[1].replace(\"%20\",\"_\"), 'wb').write(myfile.content)\n",
    "        "
   ]
  },
  {
   "cell_type": "code",
   "execution_count": 28,
   "metadata": {},
   "outputs": [
    {
     "data": {
      "text/plain": [
       "320512"
      ]
     },
     "execution_count": 28,
     "metadata": {},
     "output_type": "execute_result"
    }
   ],
   "source": [
    "url = \"https://snia.mop.gob.cl/FNE/registros/DERECHOS%20CONCEDIDOS%20DICIEMBRE%202011.xls\"\n",
    "#$wget.download(url, \"example\")\n",
    "\n",
    "myfile = requests.get(url, allow_redirects=True)\n",
    "\n",
    "open('hello.xlsx', 'wb').write(myfile.content)"
   ]
  },
  {
   "cell_type": "code",
   "execution_count": 5,
   "metadata": {},
   "outputs": [
    {
     "data": {
      "text/plain": [
       "1"
      ]
     },
     "execution_count": 5,
     "metadata": {},
     "output_type": "execute_result"
    }
   ],
   "source": [
    "len(element)"
   ]
  },
  {
   "cell_type": "code",
   "execution_count": 6,
   "metadata": {},
   "outputs": [],
   "source": [
    "txtHint"
   ]
  },
  {
   "cell_type": "code",
   "execution_count": 24,
   "metadata": {},
   "outputs": [],
   "source": [
    "selectAnios.select_by_visible_text(\"2011\")"
   ]
  },
  {
   "cell_type": "code",
   "execution_count": 33,
   "metadata": {},
   "outputs": [],
   "source": [
    "aux = dr.find_elements_by_class_name(\"hrefMes\")"
   ]
  },
  {
   "cell_type": "code",
   "execution_count": 36,
   "metadata": {},
   "outputs": [
    {
     "data": {
      "text/plain": [
       "'Diciembre'"
      ]
     },
     "execution_count": 36,
     "metadata": {},
     "output_type": "execute_result"
    }
   ],
   "source": [
    "aux[0].text"
   ]
  },
  {
   "cell_type": "code",
   "execution_count": 34,
   "metadata": {},
   "outputs": [],
   "source": [
    "aux[0].click()"
   ]
  },
  {
   "cell_type": "code",
   "execution_count": 12,
   "metadata": {},
   "outputs": [
    {
     "ename": "InvalidURL",
     "evalue": "URL can't contain control characters. '/FNE/registros/DERECHOS NC CONSTITUIDOS EN SEPTIEMBRE DE 2020.xls' (found at least ' ')",
     "output_type": "error",
     "traceback": [
      "\u001b[1;31m---------------------------------------------------------------------------\u001b[0m",
      "\u001b[1;31mInvalidURL\u001b[0m                                Traceback (most recent call last)",
      "\u001b[1;32m<ipython-input-12-e397a0fa77ae>\u001b[0m in \u001b[0;36m<module>\u001b[1;34m\u001b[0m\n\u001b[0;32m      1\u001b[0m \u001b[0murl\u001b[0m \u001b[1;33m=\u001b[0m \u001b[1;34m\"https://snia.mop.gob.cl/FNE/registros/DERECHOS NC CONSTITUIDOS EN SEPTIEMBRE DE 2020.xls\"\u001b[0m\u001b[1;33m\u001b[0m\u001b[1;33m\u001b[0m\u001b[0m\n\u001b[1;32m----> 2\u001b[1;33m \u001b[0murllib\u001b[0m\u001b[1;33m.\u001b[0m\u001b[0mrequest\u001b[0m\u001b[1;33m.\u001b[0m\u001b[0murlretrieve\u001b[0m\u001b[1;33m(\u001b[0m\u001b[0murl\u001b[0m\u001b[1;33m,\u001b[0m \u001b[1;34m\"example.xlsx\"\u001b[0m\u001b[1;33m)\u001b[0m\u001b[1;33m\u001b[0m\u001b[1;33m\u001b[0m\u001b[0m\n\u001b[0m",
      "\u001b[1;32mC:\\ProgramData\\Anaconda3\\lib\\urllib\\request.py\u001b[0m in \u001b[0;36murlretrieve\u001b[1;34m(url, filename, reporthook, data)\u001b[0m\n\u001b[0;32m    245\u001b[0m     \u001b[0murl_type\u001b[0m\u001b[1;33m,\u001b[0m \u001b[0mpath\u001b[0m \u001b[1;33m=\u001b[0m \u001b[0msplittype\u001b[0m\u001b[1;33m(\u001b[0m\u001b[0murl\u001b[0m\u001b[1;33m)\u001b[0m\u001b[1;33m\u001b[0m\u001b[1;33m\u001b[0m\u001b[0m\n\u001b[0;32m    246\u001b[0m \u001b[1;33m\u001b[0m\u001b[0m\n\u001b[1;32m--> 247\u001b[1;33m     \u001b[1;32mwith\u001b[0m \u001b[0mcontextlib\u001b[0m\u001b[1;33m.\u001b[0m\u001b[0mclosing\u001b[0m\u001b[1;33m(\u001b[0m\u001b[0murlopen\u001b[0m\u001b[1;33m(\u001b[0m\u001b[0murl\u001b[0m\u001b[1;33m,\u001b[0m \u001b[0mdata\u001b[0m\u001b[1;33m)\u001b[0m\u001b[1;33m)\u001b[0m \u001b[1;32mas\u001b[0m \u001b[0mfp\u001b[0m\u001b[1;33m:\u001b[0m\u001b[1;33m\u001b[0m\u001b[1;33m\u001b[0m\u001b[0m\n\u001b[0m\u001b[0;32m    248\u001b[0m         \u001b[0mheaders\u001b[0m \u001b[1;33m=\u001b[0m \u001b[0mfp\u001b[0m\u001b[1;33m.\u001b[0m\u001b[0minfo\u001b[0m\u001b[1;33m(\u001b[0m\u001b[1;33m)\u001b[0m\u001b[1;33m\u001b[0m\u001b[1;33m\u001b[0m\u001b[0m\n\u001b[0;32m    249\u001b[0m \u001b[1;33m\u001b[0m\u001b[0m\n",
      "\u001b[1;32mC:\\ProgramData\\Anaconda3\\lib\\urllib\\request.py\u001b[0m in \u001b[0;36murlopen\u001b[1;34m(url, data, timeout, cafile, capath, cadefault, context)\u001b[0m\n\u001b[0;32m    220\u001b[0m     \u001b[1;32melse\u001b[0m\u001b[1;33m:\u001b[0m\u001b[1;33m\u001b[0m\u001b[1;33m\u001b[0m\u001b[0m\n\u001b[0;32m    221\u001b[0m         \u001b[0mopener\u001b[0m \u001b[1;33m=\u001b[0m \u001b[0m_opener\u001b[0m\u001b[1;33m\u001b[0m\u001b[1;33m\u001b[0m\u001b[0m\n\u001b[1;32m--> 222\u001b[1;33m     \u001b[1;32mreturn\u001b[0m \u001b[0mopener\u001b[0m\u001b[1;33m.\u001b[0m\u001b[0mopen\u001b[0m\u001b[1;33m(\u001b[0m\u001b[0murl\u001b[0m\u001b[1;33m,\u001b[0m \u001b[0mdata\u001b[0m\u001b[1;33m,\u001b[0m \u001b[0mtimeout\u001b[0m\u001b[1;33m)\u001b[0m\u001b[1;33m\u001b[0m\u001b[1;33m\u001b[0m\u001b[0m\n\u001b[0m\u001b[0;32m    223\u001b[0m \u001b[1;33m\u001b[0m\u001b[0m\n\u001b[0;32m    224\u001b[0m \u001b[1;32mdef\u001b[0m \u001b[0minstall_opener\u001b[0m\u001b[1;33m(\u001b[0m\u001b[0mopener\u001b[0m\u001b[1;33m)\u001b[0m\u001b[1;33m:\u001b[0m\u001b[1;33m\u001b[0m\u001b[1;33m\u001b[0m\u001b[0m\n",
      "\u001b[1;32mC:\\ProgramData\\Anaconda3\\lib\\urllib\\request.py\u001b[0m in \u001b[0;36mopen\u001b[1;34m(self, fullurl, data, timeout)\u001b[0m\n\u001b[0;32m    523\u001b[0m             \u001b[0mreq\u001b[0m \u001b[1;33m=\u001b[0m \u001b[0mmeth\u001b[0m\u001b[1;33m(\u001b[0m\u001b[0mreq\u001b[0m\u001b[1;33m)\u001b[0m\u001b[1;33m\u001b[0m\u001b[1;33m\u001b[0m\u001b[0m\n\u001b[0;32m    524\u001b[0m \u001b[1;33m\u001b[0m\u001b[0m\n\u001b[1;32m--> 525\u001b[1;33m         \u001b[0mresponse\u001b[0m \u001b[1;33m=\u001b[0m \u001b[0mself\u001b[0m\u001b[1;33m.\u001b[0m\u001b[0m_open\u001b[0m\u001b[1;33m(\u001b[0m\u001b[0mreq\u001b[0m\u001b[1;33m,\u001b[0m \u001b[0mdata\u001b[0m\u001b[1;33m)\u001b[0m\u001b[1;33m\u001b[0m\u001b[1;33m\u001b[0m\u001b[0m\n\u001b[0m\u001b[0;32m    526\u001b[0m \u001b[1;33m\u001b[0m\u001b[0m\n\u001b[0;32m    527\u001b[0m         \u001b[1;31m# post-process response\u001b[0m\u001b[1;33m\u001b[0m\u001b[1;33m\u001b[0m\u001b[1;33m\u001b[0m\u001b[0m\n",
      "\u001b[1;32mC:\\ProgramData\\Anaconda3\\lib\\urllib\\request.py\u001b[0m in \u001b[0;36m_open\u001b[1;34m(self, req, data)\u001b[0m\n\u001b[0;32m    541\u001b[0m         \u001b[0mprotocol\u001b[0m \u001b[1;33m=\u001b[0m \u001b[0mreq\u001b[0m\u001b[1;33m.\u001b[0m\u001b[0mtype\u001b[0m\u001b[1;33m\u001b[0m\u001b[1;33m\u001b[0m\u001b[0m\n\u001b[0;32m    542\u001b[0m         result = self._call_chain(self.handle_open, protocol, protocol +\n\u001b[1;32m--> 543\u001b[1;33m                                   '_open', req)\n\u001b[0m\u001b[0;32m    544\u001b[0m         \u001b[1;32mif\u001b[0m \u001b[0mresult\u001b[0m\u001b[1;33m:\u001b[0m\u001b[1;33m\u001b[0m\u001b[1;33m\u001b[0m\u001b[0m\n\u001b[0;32m    545\u001b[0m             \u001b[1;32mreturn\u001b[0m \u001b[0mresult\u001b[0m\u001b[1;33m\u001b[0m\u001b[1;33m\u001b[0m\u001b[0m\n",
      "\u001b[1;32mC:\\ProgramData\\Anaconda3\\lib\\urllib\\request.py\u001b[0m in \u001b[0;36m_call_chain\u001b[1;34m(self, chain, kind, meth_name, *args)\u001b[0m\n\u001b[0;32m    501\u001b[0m         \u001b[1;32mfor\u001b[0m \u001b[0mhandler\u001b[0m \u001b[1;32min\u001b[0m \u001b[0mhandlers\u001b[0m\u001b[1;33m:\u001b[0m\u001b[1;33m\u001b[0m\u001b[1;33m\u001b[0m\u001b[0m\n\u001b[0;32m    502\u001b[0m             \u001b[0mfunc\u001b[0m \u001b[1;33m=\u001b[0m \u001b[0mgetattr\u001b[0m\u001b[1;33m(\u001b[0m\u001b[0mhandler\u001b[0m\u001b[1;33m,\u001b[0m \u001b[0mmeth_name\u001b[0m\u001b[1;33m)\u001b[0m\u001b[1;33m\u001b[0m\u001b[1;33m\u001b[0m\u001b[0m\n\u001b[1;32m--> 503\u001b[1;33m             \u001b[0mresult\u001b[0m \u001b[1;33m=\u001b[0m \u001b[0mfunc\u001b[0m\u001b[1;33m(\u001b[0m\u001b[1;33m*\u001b[0m\u001b[0margs\u001b[0m\u001b[1;33m)\u001b[0m\u001b[1;33m\u001b[0m\u001b[1;33m\u001b[0m\u001b[0m\n\u001b[0m\u001b[0;32m    504\u001b[0m             \u001b[1;32mif\u001b[0m \u001b[0mresult\u001b[0m \u001b[1;32mis\u001b[0m \u001b[1;32mnot\u001b[0m \u001b[1;32mNone\u001b[0m\u001b[1;33m:\u001b[0m\u001b[1;33m\u001b[0m\u001b[1;33m\u001b[0m\u001b[0m\n\u001b[0;32m    505\u001b[0m                 \u001b[1;32mreturn\u001b[0m \u001b[0mresult\u001b[0m\u001b[1;33m\u001b[0m\u001b[1;33m\u001b[0m\u001b[0m\n",
      "\u001b[1;32mC:\\ProgramData\\Anaconda3\\lib\\urllib\\request.py\u001b[0m in \u001b[0;36mhttps_open\u001b[1;34m(self, req)\u001b[0m\n\u001b[0;32m   1358\u001b[0m         \u001b[1;32mdef\u001b[0m \u001b[0mhttps_open\u001b[0m\u001b[1;33m(\u001b[0m\u001b[0mself\u001b[0m\u001b[1;33m,\u001b[0m \u001b[0mreq\u001b[0m\u001b[1;33m)\u001b[0m\u001b[1;33m:\u001b[0m\u001b[1;33m\u001b[0m\u001b[1;33m\u001b[0m\u001b[0m\n\u001b[0;32m   1359\u001b[0m             return self.do_open(http.client.HTTPSConnection, req,\n\u001b[1;32m-> 1360\u001b[1;33m                 context=self._context, check_hostname=self._check_hostname)\n\u001b[0m\u001b[0;32m   1361\u001b[0m \u001b[1;33m\u001b[0m\u001b[0m\n\u001b[0;32m   1362\u001b[0m         \u001b[0mhttps_request\u001b[0m \u001b[1;33m=\u001b[0m \u001b[0mAbstractHTTPHandler\u001b[0m\u001b[1;33m.\u001b[0m\u001b[0mdo_request_\u001b[0m\u001b[1;33m\u001b[0m\u001b[1;33m\u001b[0m\u001b[0m\n",
      "\u001b[1;32mC:\\ProgramData\\Anaconda3\\lib\\urllib\\request.py\u001b[0m in \u001b[0;36mdo_open\u001b[1;34m(self, http_class, req, **http_conn_args)\u001b[0m\n\u001b[0;32m   1315\u001b[0m             \u001b[1;32mtry\u001b[0m\u001b[1;33m:\u001b[0m\u001b[1;33m\u001b[0m\u001b[1;33m\u001b[0m\u001b[0m\n\u001b[0;32m   1316\u001b[0m                 h.request(req.get_method(), req.selector, req.data, headers,\n\u001b[1;32m-> 1317\u001b[1;33m                           encode_chunked=req.has_header('Transfer-encoding'))\n\u001b[0m\u001b[0;32m   1318\u001b[0m             \u001b[1;32mexcept\u001b[0m \u001b[0mOSError\u001b[0m \u001b[1;32mas\u001b[0m \u001b[0merr\u001b[0m\u001b[1;33m:\u001b[0m \u001b[1;31m# timeout error\u001b[0m\u001b[1;33m\u001b[0m\u001b[1;33m\u001b[0m\u001b[0m\n\u001b[0;32m   1319\u001b[0m                 \u001b[1;32mraise\u001b[0m \u001b[0mURLError\u001b[0m\u001b[1;33m(\u001b[0m\u001b[0merr\u001b[0m\u001b[1;33m)\u001b[0m\u001b[1;33m\u001b[0m\u001b[1;33m\u001b[0m\u001b[0m\n",
      "\u001b[1;32mC:\\ProgramData\\Anaconda3\\lib\\http\\client.py\u001b[0m in \u001b[0;36mrequest\u001b[1;34m(self, method, url, body, headers, encode_chunked)\u001b[0m\n\u001b[0;32m   1242\u001b[0m                 encode_chunked=False):\n\u001b[0;32m   1243\u001b[0m         \u001b[1;34m\"\"\"Send a complete request to the server.\"\"\"\u001b[0m\u001b[1;33m\u001b[0m\u001b[1;33m\u001b[0m\u001b[0m\n\u001b[1;32m-> 1244\u001b[1;33m         \u001b[0mself\u001b[0m\u001b[1;33m.\u001b[0m\u001b[0m_send_request\u001b[0m\u001b[1;33m(\u001b[0m\u001b[0mmethod\u001b[0m\u001b[1;33m,\u001b[0m \u001b[0murl\u001b[0m\u001b[1;33m,\u001b[0m \u001b[0mbody\u001b[0m\u001b[1;33m,\u001b[0m \u001b[0mheaders\u001b[0m\u001b[1;33m,\u001b[0m \u001b[0mencode_chunked\u001b[0m\u001b[1;33m)\u001b[0m\u001b[1;33m\u001b[0m\u001b[1;33m\u001b[0m\u001b[0m\n\u001b[0m\u001b[0;32m   1245\u001b[0m \u001b[1;33m\u001b[0m\u001b[0m\n\u001b[0;32m   1246\u001b[0m     \u001b[1;32mdef\u001b[0m \u001b[0m_send_request\u001b[0m\u001b[1;33m(\u001b[0m\u001b[0mself\u001b[0m\u001b[1;33m,\u001b[0m \u001b[0mmethod\u001b[0m\u001b[1;33m,\u001b[0m \u001b[0murl\u001b[0m\u001b[1;33m,\u001b[0m \u001b[0mbody\u001b[0m\u001b[1;33m,\u001b[0m \u001b[0mheaders\u001b[0m\u001b[1;33m,\u001b[0m \u001b[0mencode_chunked\u001b[0m\u001b[1;33m)\u001b[0m\u001b[1;33m:\u001b[0m\u001b[1;33m\u001b[0m\u001b[1;33m\u001b[0m\u001b[0m\n",
      "\u001b[1;32mC:\\ProgramData\\Anaconda3\\lib\\http\\client.py\u001b[0m in \u001b[0;36m_send_request\u001b[1;34m(self, method, url, body, headers, encode_chunked)\u001b[0m\n\u001b[0;32m   1253\u001b[0m             \u001b[0mskips\u001b[0m\u001b[1;33m[\u001b[0m\u001b[1;34m'skip_accept_encoding'\u001b[0m\u001b[1;33m]\u001b[0m \u001b[1;33m=\u001b[0m \u001b[1;36m1\u001b[0m\u001b[1;33m\u001b[0m\u001b[1;33m\u001b[0m\u001b[0m\n\u001b[0;32m   1254\u001b[0m \u001b[1;33m\u001b[0m\u001b[0m\n\u001b[1;32m-> 1255\u001b[1;33m         \u001b[0mself\u001b[0m\u001b[1;33m.\u001b[0m\u001b[0mputrequest\u001b[0m\u001b[1;33m(\u001b[0m\u001b[0mmethod\u001b[0m\u001b[1;33m,\u001b[0m \u001b[0murl\u001b[0m\u001b[1;33m,\u001b[0m \u001b[1;33m**\u001b[0m\u001b[0mskips\u001b[0m\u001b[1;33m)\u001b[0m\u001b[1;33m\u001b[0m\u001b[1;33m\u001b[0m\u001b[0m\n\u001b[0m\u001b[0;32m   1256\u001b[0m \u001b[1;33m\u001b[0m\u001b[0m\n\u001b[0;32m   1257\u001b[0m         \u001b[1;31m# chunked encoding will happen if HTTP/1.1 is used and either\u001b[0m\u001b[1;33m\u001b[0m\u001b[1;33m\u001b[0m\u001b[1;33m\u001b[0m\u001b[0m\n",
      "\u001b[1;32mC:\\ProgramData\\Anaconda3\\lib\\http\\client.py\u001b[0m in \u001b[0;36mputrequest\u001b[1;34m(self, method, url, skip_host, skip_accept_encoding)\u001b[0m\n\u001b[0;32m   1115\u001b[0m         \u001b[0mmatch\u001b[0m \u001b[1;33m=\u001b[0m \u001b[0m_contains_disallowed_url_pchar_re\u001b[0m\u001b[1;33m.\u001b[0m\u001b[0msearch\u001b[0m\u001b[1;33m(\u001b[0m\u001b[0murl\u001b[0m\u001b[1;33m)\u001b[0m\u001b[1;33m\u001b[0m\u001b[1;33m\u001b[0m\u001b[0m\n\u001b[0;32m   1116\u001b[0m         \u001b[1;32mif\u001b[0m \u001b[0mmatch\u001b[0m\u001b[1;33m:\u001b[0m\u001b[1;33m\u001b[0m\u001b[1;33m\u001b[0m\u001b[0m\n\u001b[1;32m-> 1117\u001b[1;33m             raise InvalidURL(f\"URL can't contain control characters. {url!r} \"\n\u001b[0m\u001b[0;32m   1118\u001b[0m                              f\"(found at least {match.group()!r})\")\n\u001b[0;32m   1119\u001b[0m         \u001b[0mrequest\u001b[0m \u001b[1;33m=\u001b[0m \u001b[1;34m'%s %s %s'\u001b[0m \u001b[1;33m%\u001b[0m \u001b[1;33m(\u001b[0m\u001b[0mmethod\u001b[0m\u001b[1;33m,\u001b[0m \u001b[0murl\u001b[0m\u001b[1;33m,\u001b[0m \u001b[0mself\u001b[0m\u001b[1;33m.\u001b[0m\u001b[0m_http_vsn_str\u001b[0m\u001b[1;33m)\u001b[0m\u001b[1;33m\u001b[0m\u001b[1;33m\u001b[0m\u001b[0m\n",
      "\u001b[1;31mInvalidURL\u001b[0m: URL can't contain control characters. '/FNE/registros/DERECHOS NC CONSTITUIDOS EN SEPTIEMBRE DE 2020.xls' (found at least ' ')"
     ]
    }
   ],
   "source": [
    "url = \"https://snia.mop.gob.cl/FNE/registros/DERECHOS NC CONSTITUIDOS EN SEPTIEMBRE DE 2020.xls\"\n",
    "urllib.request.urlretrieve(url, \"example.xlsx\")"
   ]
  },
  {
   "cell_type": "code",
   "execution_count": 21,
   "metadata": {},
   "outputs": [
    {
     "data": {
      "text/plain": [
       "<selenium.webdriver.firefox.webdriver.WebDriver (session=\"7487e444-550f-449f-a341-056d965c7ef5\")>"
      ]
     },
     "execution_count": 21,
     "metadata": {},
     "output_type": "execute_result"
    }
   ],
   "source": [
    "url = \"https://snia.mop.gob.cl/FNE/registros/DERECHOS%20NC%20CONSTITUIDOS%20EN%20SEPTIEMBRE%20DE%202020.xls\"\n",
    "getDriver(url)"
   ]
  },
  {
   "cell_type": "code",
   "execution_count": 30,
   "metadata": {},
   "outputs": [],
   "source": [
    "from os import scandir, getcwd\n",
    "\n",
    "def ls(ruta = getcwd()):\n",
    "    return [arch.name for arch in scandir(ruta) if arch.is_file()]"
   ]
  },
  {
   "cell_type": "code",
   "execution_count": 31,
   "metadata": {},
   "outputs": [
    {
     "data": {
      "text/plain": [
       "['constituidos.xls',\n",
       " 'DERECHOS-NC-CONSTITUIDOS-Y-APROBADOS-EN-OCTUBRE-DE-2014.xls',\n",
       " 'DERECHOS_CONCEDIDOS_ABRIL_DE_2012.xls',\n",
       " 'DERECHOS_CONCEDIDOS_AGOSTO_2012.xls',\n",
       " 'DERECHOS_CONCEDIDOS_DICIEMBRE_2011.xls',\n",
       " 'DERECHOS_CONCEDIDOS_ENERO_2012.xls',\n",
       " 'DERECHOS_CONCEDIDOS_FEBRERO_2012.xls',\n",
       " 'DERECHOS_CONCEDIDOS_FEBRERO_2013.xls',\n",
       " 'DERECHOS_CONCEDIDOS_JULIO_2012.xls',\n",
       " 'DERECHOS_CONCEDIDOS_JULIO_2013.xls',\n",
       " 'DERECHOS_CONCEDIDOS_JUNIO_2012.xls',\n",
       " 'DERECHOS_CONCEDIDOS_JUNIO_2013.xls',\n",
       " 'DERECHOS_CONCEDIDOS_MARZO_2012.xls',\n",
       " 'DERECHOS_CONCEDIDOS_MAYO_2012.xls',\n",
       " 'DERECHOS_CONCEDIDOS_NOVIEMBRE_DE_2012.xls',\n",
       " 'DERECHOS_CONCEDIDOS_SEPTIEMBRE_DE_2012.xls',\n",
       " 'DERECHOS_DE_APROVECHAMIENTO_CONCEDIDOS_OCTBRE_DE_2012.xls',\n",
       " 'DERECHOS_NC_CONSTITUIDOS_EN_ABRIL_DE_2019.xls',\n",
       " 'DERECHOS_NC_CONSTITUIDOS_EN_ABRIL_DE_2020.xls',\n",
       " 'DERECHOS_NC_CONSTITUIDOS_EN_AGOSTO_DE_2019.xls',\n",
       " 'DERECHOS_NC_CONSTITUIDOS_EN_AGOSTO_DE_2020.xls',\n",
       " 'DERECHOS_NC_CONSTITUIDOS_EN_DICIEMBRE_DE_2019.xls',\n",
       " 'DERECHOS_NC_CONSTITUIDOS_EN_ENERO_DE_2019.xls',\n",
       " 'DERECHOS_NC_CONSTITUIDOS_EN_ENERO_DE_2020.xls',\n",
       " 'DERECHOS_NC_CONSTITUIDOS_EN_FEBRERO_DE_2019.xls',\n",
       " 'DERECHOS_NC_CONSTITUIDOS_EN_FEBRERO_DE_2020.xls',\n",
       " 'DERECHOS_NC_CONSTITUIDOS_EN_JULIO_DE_2019.xls',\n",
       " 'DERECHOS_NC_CONSTITUIDOS_EN_JULIO_DE_2020_(2).xls',\n",
       " 'DERECHOS_NC_CONSTITUIDOS_EN_JUNIO_DE_2019.xls',\n",
       " 'DERECHOS_NC_CONSTITUIDOS_EN_JUNIO_DE_2020.xls',\n",
       " 'DERECHOS_NC_CONSTITUIDOS_EN_MARZO_DE_2019.xls',\n",
       " 'DERECHOS_NC_CONSTITUIDOS_EN_MARZO_DE_2020.xls',\n",
       " 'DERECHOS_NC_CONSTITUIDOS_EN_MAYO_DE_2019.xls',\n",
       " 'DERECHOS_NC_CONSTITUIDOS_EN_MAYO_DE_2020_(1).xls',\n",
       " 'DERECHOS_NC_CONSTITUIDOS_EN_NOVIEMBRE_2019_WR.xls',\n",
       " 'DERECHOS_NC_CONSTITUIDOS_EN_OCTUBRE_DE_2019.xls',\n",
       " 'DERECHOS_NC_CONSTITUIDOS_EN_SEPTIEMBRE_DE_2019.xls',\n",
       " 'DERECHOS_NC_CONSTITUIDOS_EN_SEPTIEMBRE_DE_2020.xls',\n",
       " 'DERECHOS_NC_CONSTITUIDOS_Y_APROBADOS_EN_AGOSTO_DE_2014.xls',\n",
       " 'DERECHOS_NC_CONSTITUIDOS_Y_APROBADOS_EN_JULIO_DE_2014.xls',\n",
       " 'DERECHOS_NC_CONSTITUIDOS_Y_APROBADOS_EN_JUNIO_DE_2014.xls',\n",
       " 'DERECHOS_NC_CONSTITUIDOS_Y_APROBADOS_EN_NOVIEMBRE_2014.xls',\n",
       " 'DERECHOS_NC_CONSTITUIDOS_Y_APROBADOS_EN_SEPTIEMBRE_DE_2014.xls',\n",
       " 'DERECHOS_NC_RECIBIDOS_DEL_CBR_EN_EL_MES_DE_MARZO_DE_2012.xls',\n",
       " 'DERECHOS_NC_RECIBIDOS_EN_EL_MES_DE_FEBRERO__DE_2012.xls',\n",
       " 'DERECHO_NC_CONSTITUIDOS_Y_APROBADOS_EN_MAYO_DE_2014.xls',\n",
       " 'geckodriver.exe',\n",
       " 'geckodriver.log',\n",
       " 'REGISTRO-CBR-DERECHOS-NC-CONCEDIDOS-EN-EL-MES-DE-DICIEMBRE-2013.xls',\n",
       " 'REGISTRO_CBR_DERECHOS-NC-CONCEDIDOS-EN-EL-MES-DE-OCTUBRE-2014.xls',\n",
       " 'REGISTRO_CBR_DERECHOS_NC_CONCEDIDOS_EN_EL_MES_DE_ABRIL_2013.xls',\n",
       " 'REGISTRO_CBR_DERECHOS_NC_CONCEDIDOS_EN_EL_MES_DE_ABRIL_DE_2019.xls',\n",
       " 'REGISTRO_CBR_DERECHOS_NC_CONCEDIDOS_EN_EL_MES_DE_ABRIL_DE_2020.xls',\n",
       " 'REGISTRO_CBR_DERECHOS_NC_CONCEDIDOS_EN_EL_MES_DE_AGOSTO_2013.xls',\n",
       " 'REGISTRO_CBR_DERECHOS_NC_CONCEDIDOS_EN_EL_MES_DE_AGOSTO_2014.xls',\n",
       " 'REGISTRO_CBR_DERECHOS_NC_CONCEDIDOS_EN_EL_MES_DE_AGOSTO_DE_2019.xls',\n",
       " 'REGISTRO_CBR_DERECHOS_NC_CONCEDIDOS_EN_EL_MES_DE_AGOSTO_DE_2020.xls',\n",
       " 'REGISTRO_CBR_DERECHOS_NC_CONCEDIDOS_EN_EL_MES_DE_DICIEMBRE_DE_2019.xls',\n",
       " 'REGISTRO_CBR_DERECHOS_NC_CONCEDIDOS_EN_EL_MES_DE_ENERO_2013.xls',\n",
       " 'REGISTRO_CBR_DERECHOS_NC_CONCEDIDOS_EN_EL_MES_DE_ENERO_DE_2020.xls',\n",
       " 'REGISTRO_CBR_DERECHOS_NC_CONCEDIDOS_EN_EL_MES_DE_FEBRERO_2013.xls',\n",
       " 'REGISTRO_CBR_DERECHOS_NC_CONCEDIDOS_EN_EL_MES_DE_FEBRERO_DE_2019.xls',\n",
       " 'REGISTRO_CBR_DERECHOS_NC_CONCEDIDOS_EN_EL_MES_DE_FEBRERO_DE_2020.xls',\n",
       " 'REGISTRO_CBR_DERECHOS_NC_CONCEDIDOS_EN_EL_MES_DE_JULIO_2013.xls',\n",
       " 'REGISTRO_CBR_DERECHOS_NC_CONCEDIDOS_EN_EL_MES_DE_JULIO_2014.xls',\n",
       " 'REGISTRO_CBR_DERECHOS_NC_CONCEDIDOS_EN_EL_MES_DE_JULIO_DE_2019.xls',\n",
       " 'REGISTRO_CBR_DERECHOS_NC_CONCEDIDOS_EN_EL_MES_DE_JULIO_DE_2020.xls',\n",
       " 'REGISTRO_CBR_DERECHOS_NC_CONCEDIDOS_EN_EL_MES_DE_JUNIO_2014.xls',\n",
       " 'REGISTRO_CBR_DERECHOS_NC_CONCEDIDOS_EN_EL_MES_DE_JUNIO_DE_2019.xls',\n",
       " 'REGISTRO_CBR_DERECHOS_NC_CONCEDIDOS_EN_EL_MES_DE_JUNIO_DE_2020.xls',\n",
       " 'REGISTRO_CBR_DERECHOS_NC_CONCEDIDOS_EN_EL_MES_DE_MARZO_2013.xls',\n",
       " 'REGISTRO_CBR_DERECHOS_NC_CONCEDIDOS_EN_EL_MES_DE_MARZO_DE_2019.xls',\n",
       " 'REGISTRO_CBR_DERECHOS_NC_CONCEDIDOS_EN_EL_MES_DE_MARZO_DE_2020.xls',\n",
       " 'REGISTRO_CBR_DERECHOS_NC_CONCEDIDOS_EN_EL_MES_DE_MAYO_2013.xls',\n",
       " 'REGISTRO_CBR_DERECHOS_NC_CONCEDIDOS_EN_EL_MES_DE_MAYO_2014.xls',\n",
       " 'REGISTRO_CBR_DERECHOS_NC_CONCEDIDOS_EN_EL_MES_DE_MAYO_DE_2019.xls',\n",
       " 'REGISTRO_CBR_DERECHOS_NC_CONCEDIDOS_EN_EL_MES_DE_MAYO_DE_2020_(1).xls',\n",
       " 'REGISTRO_CBR_DERECHOS_NC_CONCEDIDOS_EN_EL_MES_DE_NOVIEMBRE_2013.xls',\n",
       " 'REGISTRO_CBR_DERECHOS_NC_CONCEDIDOS_EN_EL_MES_DE_NOVIEMBRE_2014.xls',\n",
       " 'REGISTRO_CBR_DERECHOS_NC_CONCEDIDOS_EN_EL_MES_DE_NOVIEMBRE_DE_2019.xls',\n",
       " 'REGISTRO_CBR_DERECHOS_NC_CONCEDIDOS_EN_EL_MES_DE_OCTUBRE_2013.xls',\n",
       " 'REGISTRO_CBR_DERECHOS_NC_CONCEDIDOS_EN_EL_MES_DE_OCTUBRE_DE_2019.xls',\n",
       " 'REGISTRO_CBR_DERECHOS_NC_CONCEDIDOS_EN_EL_MES_DE_SEPTIEMBRE_2013.xls',\n",
       " 'REGISTRO_CBR_DERECHOS_NC_CONCEDIDOS_EN_EL_MES_DE_SEPTIEMBRE_2014.xls',\n",
       " 'REGISTRO_CBR_DERECHOS_NC_CONCEDIDOS_EN_EL_MES_DE_SEPTIEMBRE_DE_2019.xls',\n",
       " 'REGISTRO_CBR_DERECHOS_NC_CONCEDIDOS_EN_EL_MES_DE_SEPTIEMBRE_DE_2020.xls',\n",
       " 'REGISTRO_CBR_DERECHOS_NC_CONCEDIDOS_MES_DE_DICIEMBRE_DE_2012.xls',\n",
       " 'REGISTRO_CBR_DERECHOS_NC_CONCEDIDOS_MES_DE_NOVIEMBRE_2012.xls',\n",
       " 'REGISTRO_CBR_DERECHOS_NC_CONCEDIDOS_MES_DE_OCTUBRE_2012.xls',\n",
       " 'REGISTRO_CBR_DERECHOS_NC_RECIBIDOS_EN_EL_MES_DE_JUNIO_2013.xls',\n",
       " 'REGISTRO_CBR_DERECHOS_NC_RECIBIDOS_MES_DE_AGOSTO_2012.xls',\n",
       " 'REGISTRO_CBR_DERECHOS_NC_RECIBIDOS_MES_DE_JULIO_2012.xls',\n",
       " 'REGISTRO_CBR_DERECHOS_NC_RECIBIDOS_MES_DE_SEPTIEMBRE_2012.xls',\n",
       " 'REGISTRO_CBR_DE_DERECHOS_NC_RECIBIDOS_EN_EL_MES_DE_MAYO_2012.xls',\n",
       " 'REGISTRO_CBR_DE_DERECHOS_NC_RECIBIDOS_MES_DE_ABRIL_2012.xls',\n",
       " 'REGISTRO_CBR_DE_DERECHOS_NC_RECIBIDOS_MES_DE_JUNIO_2012.xls',\n",
       " 'REGISTRO_CBR_DE_DERECHOS_NC_RECIBIDOS_MES_DICIEMBRE_2011.xls',\n",
       " 'REGISTRO_CBR_DE_DERECHOS_NC_RECIBIDOS_MES_ENERO_2012.xls',\n",
       " 'REGISTRO_CBR_NC_CONCEDIDOS_EN_EL_MES_DE_ENERO_DE_2019.xls',\n",
       " 'RENUNCIAS-NC-MES-DE-DICIEMBRE-2013.xls',\n",
       " 'RENUNCIAS_NC_MES_DE_ABRIL_DE_2020.xls',\n",
       " 'RENUNCIAS_NC_MES_DE_JULIO_2013.xls',\n",
       " 'RENUNCIAS_NC_MES_DE_JULIO_DE_2020_FIN.xls',\n",
       " 'RENUNCIAS_NC_MES_DE_JUNIO_DE_2013.xls',\n",
       " 'RENUNCIAS_NC_MES_DE_JUNIO_DE_2020.xls',\n",
       " 'RENUNCIAS_NC_MES_DE_MAYO_DE_2014.xls',\n",
       " 'RENUNCIAS_NC_MES_DE_OCTUBRE_DE_2012.xls',\n",
       " 'RENUNCIAS_NC_MES_DE_SEPTIEMBRE_2013.xls',\n",
       " 'RENUNCIAS_NC_MES_DE_SEPTIEMBRE_DE_2012.xls',\n",
       " 'RENUNCIAS_NC_MES_DE_SEPTIEMBRE_DE_2020.xls',\n",
       " 'RENUNCIAS_NC__MES_DE_ABRIL_DE_2019.xls',\n",
       " 'RENUNCIAS_NC__MES_DE_ENERO_DE_2019.xls',\n",
       " 'RENUNCIAS_NC__MES_DE_FEBRERO_DE_2019.xls',\n",
       " 'RENUNCIAS_NC__MES_DE_MAYO_DE_2019.xls',\n",
       " 'RENUNCIAS_NC__MES_DE_SEPTIEMBRE_DE_2019.xls',\n",
       " 'SOLICITUDES-NC-INGRESADAS-OCTUBRE-DE-2014.xls',\n",
       " 'Solicitudes.xls',\n",
       " 'SOLICITUDES_CONCEDIDAS-o_APROBADAS_EN_EL_MES_DE_OCTUBRE_DE_2013.xls',\n",
       " 'SOLICITUDES_CONCEDIDAS_O_APROBADAS_EN_EL_MES_DE_ABRIL_DE_2013.xls',\n",
       " 'SOLICITUDES_CONCEDIDAS_O_APROBADAS_EN_EL_MES_DE_DICIEMBRE_2013.xls',\n",
       " 'SOLICITUDES_CONCEDIDAS_O_APROBADAS_EN_EL_MES_DE_MARZO_DE_2013.xls',\n",
       " 'SOLICITUDES_CONCEDIDAS_O_APROBADAS_EN_EL_MES_DE_NOVIEMBRE_2013.xls',\n",
       " 'SOLICITUDES_CONCEDIDAS_O_APROBADAS_MES_DE_AGOSTO_DE_2013.xls',\n",
       " 'SOLICITUDES_CONCEDIDAS_O_APROBADAS_MES_DE_MAYO_DE_2013.xls',\n",
       " 'SOLICITUDES_DE_DERECHOS_DE_APROVECHAMIENTO_NO_CONSUNTIVOS_INGRESADAS_EN_EL_MES_DE_MARZO_DE_2012.xls',\n",
       " 'SOLICITUDES_INGRESADAS_A_TRAMITE_ABRIL__2012.xls',\n",
       " 'SOLICITUDES_INGRESADAS_A_TRAMITE_AGOSTO_DE_2012.xls',\n",
       " 'SOLICITUDES_INGRESADAS_A_TRAMITE_DICIEMBRE_2011.xls',\n",
       " 'SOLICITUDES_INGRESADAS_A_TRAMITE_DICIEMBRE_DE_2012.xls',\n",
       " 'SOLICITUDES_INGRESADAS_A_TRAMITE_ENERO_2012.xls',\n",
       " 'SOLICITUDES_INGRESADAS_A_TRAMITE_ENERO_2013.xls',\n",
       " 'SOLICITUDES_INGRESADAS_A_TRAMITE_EN_ABRIL_DE_2013.xls',\n",
       " 'SOLICITUDES_INGRESADAS_A_TRAMITE_EN_AGOSTO_DE_2013.xls',\n",
       " 'SOLICITUDES_INGRESADAS_A_TRAMITE_EN_DICIEMBRE_2013.xls',\n",
       " 'SOLICITUDES_INGRESADAS_A_TRAMITE_EN_MAYO_DE_2013.xls',\n",
       " 'SOLICITUDES_INGRESADAS_A_TRAMITE_EN_NOVIEMBRE_2013.xls',\n",
       " 'SOLICITUDES_INGRESADAS_A_TRAMITE_EN_OCTUBRE_2013.xls',\n",
       " 'SOLICITUDES_INGRESADAS_A_TRAMITE_EN_SEPTIEMBRE-2013.xls',\n",
       " 'SOLICITUDES_INGRESADAS_A_TRAMITE_FEBRERO_2012.xls',\n",
       " 'SOLICITUDES_INGRESADAS_A_TRAMITE_FEBRERO_DE_2013.xls',\n",
       " 'SOLICITUDES_INGRESADAS_A_TRAMITE_JULIO_2012.xls',\n",
       " 'SOLICITUDES_INGRESADAS_A_TRAMITE_JULIO_DE_2013.xls',\n",
       " 'SOLICITUDES_INGRESADAS_A_TRAMITE_JUNIO_2012.xls',\n",
       " 'SOLICITUDES_INGRESADAS_A_TRAMITE_JUNIO_DE_2013.xls',\n",
       " 'SOLICITUDES_INGRESADAS_A_TRAMITE_MARZO_DE_2013.xls',\n",
       " 'SOLICITUDES_INGRESADAS_A_TRAMITE_MAYO_2012.XLSX.xls',\n",
       " 'SOLICITUDES_INGRESADAS_A_TRAMITE_NOVIEMBRE_DE_2012.xls',\n",
       " 'SOLICITUDES_INGRESADAS_A_TRAMITE_OCTUBRE_DE_2012.xls',\n",
       " 'SOLICITUDES_INGRESADAS_A_TRAMITE_SEPTIEMBRE_DE_2012.xls',\n",
       " 'SOLICITUDES_INGRESADAS_EN_ABRIL_DE_2019.xls',\n",
       " 'SOLICITUDES_NC_INGRESADAS_AGOSTO_DE_2014.xls',\n",
       " 'SOLICITUDES_NC_INGRESADAS_EN_AGOSTO_DE_2019.xls',\n",
       " 'SOLICITUDES_NC_INGRESADAS_EN_DICIEMBRE_DE_2019.xls',\n",
       " 'SOLICITUDES_NC_INGRESADAS_EN_ENERO_DE_2019.xls',\n",
       " 'SOLICITUDES_NC_INGRESADAS_EN_ENERO_DE_2020.xls',\n",
       " 'SOLICITUDES_NC_INGRESADAS_EN_FEBRERO_DE_2019.xls',\n",
       " 'SOLICITUDES_NC_INGRESADAS_EN_FEBRERO_DE_2020.xls',\n",
       " 'SOLICITUDES_NC_INGRESADAS_EN_JULIO_DE_2019.xls',\n",
       " 'SOLICITUDES_NC_INGRESADAS_EN_JULIO_DE_2020.xls',\n",
       " 'SOLICITUDES_NC_INGRESADAS_EN_JUNIO_DE_2019.xls',\n",
       " 'SOLICITUDES_NC_INGRESADAS_EN_JUNIO_DE_2020.xls',\n",
       " 'SOLICITUDES_NC_INGRESADAS_EN_MARZO_DE_2019.xls',\n",
       " 'SOLICITUDES_NC_INGRESADAS_EN_MARZO_DE_2020.xls',\n",
       " 'SOLICITUDES_NC_INGRESADAS_EN_MAYO_DE_2019.xls',\n",
       " 'SOLICITUDES_NC_INGRESADAS_EN_MAYO_DE_2020_(1).xls',\n",
       " 'SOLICITUDES_NC_INGRESADAS_EN_NOVIEMBRE_DE_2014.xls',\n",
       " 'SOLICITUDES_NC_INGRESADAS_EN_NOVIEMBRE_DE_2019.xls',\n",
       " 'SOLICITUDES_NC_INGRESADAS_EN_OCTUBRE_DE_2019.xls',\n",
       " 'SOLICITUDES_NC_INGRESADAS_EN_SEPTIEMBRE_DE_2019.xls',\n",
       " 'SOLICITUDES_NC_INGRESADAS_EN_SEPTIEMBRE_DE_2020.xls',\n",
       " 'SOLICITUDES_NC_INGRESADAS_JULIO_DE_2014.xls',\n",
       " 'SOLICITUDES_NC_INGRESADAS_JUNIO_DE_2014.xls',\n",
       " 'SOLICITUDES_NC_INGRESADAS_MAYO_DE_2014.xls',\n",
       " 'SOLICITUDES_NC_INGRESADAS_SEPTIEMBRE_DE_2014.xls',\n",
       " 'Transferencias.xls',\n",
       " 'Untitled.ipynb',\n",
       " 'Untitled1.ipynb']"
      ]
     },
     "execution_count": 31,
     "metadata": {},
     "output_type": "execute_result"
    }
   ],
   "source": [
    "ls()"
   ]
  },
  {
   "cell_type": "code",
   "execution_count": null,
   "metadata": {},
   "outputs": [],
   "source": []
  }
 ],
 "metadata": {
  "kernelspec": {
   "display_name": "Python 3",
   "language": "python",
   "name": "python3"
  },
  "language_info": {
   "codemirror_mode": {
    "name": "ipython",
    "version": 3
   },
   "file_extension": ".py",
   "mimetype": "text/x-python",
   "name": "python",
   "nbconvert_exporter": "python",
   "pygments_lexer": "ipython3",
   "version": "3.7.4"
  }
 },
 "nbformat": 4,
 "nbformat_minor": 4
}
